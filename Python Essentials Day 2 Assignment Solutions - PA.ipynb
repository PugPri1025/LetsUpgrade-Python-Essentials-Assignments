{
 "cells": [
  {
   "cell_type": "markdown",
   "metadata": {},
   "source": [
    "# Solution 1: Try 5 Different functions of the String in Python."
   ]
  },
  {
   "cell_type": "code",
   "execution_count": 13,
   "metadata": {},
   "outputs": [
    {
     "data": {
      "text/plain": [
       "'PRI10YA25.'"
      ]
     },
     "execution_count": 13,
     "metadata": {},
     "output_type": "execute_result"
    }
   ],
   "source": [
    "#upper() - Converts a string into upper case\n",
    "\n",
    "Verification_Code = \"Pri10yA25.\"\n",
    "Verification_Code.upper()"
   ]
  },
  {
   "cell_type": "code",
   "execution_count": 14,
   "metadata": {},
   "outputs": [
    {
     "data": {
      "text/plain": [
       "False"
      ]
     },
     "execution_count": 14,
     "metadata": {},
     "output_type": "execute_result"
    }
   ],
   "source": [
    "#isalpha() - Returns True if all characters in the string are in the alphabet\n",
    "\n",
    "Verification_Code = \"Pri10yA25.\"\n",
    "Verification_Code.isalpha()"
   ]
  },
  {
   "cell_type": "code",
   "execution_count": 141,
   "metadata": {},
   "outputs": [
    {
     "data": {
      "text/plain": [
       "True"
      ]
     },
     "execution_count": 141,
     "metadata": {},
     "output_type": "execute_result"
    }
   ],
   "source": [
    "#strip() - Returns a trimmed version of the string ; rstrip() - Returns a right trim version of the string ; lstrip() - Returns a left trim version of the string\n",
    "#isalnum() - Returns True if all characters in the string are alphanumeric\n",
    "\n",
    "Verification_Code = \"Pri10yA25.\"\n",
    "No_SpecialChar = Verification_Code.strip(\".\")\n",
    "No_SpecialChar.isalnum()"
   ]
  },
  {
   "cell_type": "code",
   "execution_count": 19,
   "metadata": {},
   "outputs": [
    {
     "data": {
      "text/plain": [
       "'pRI10Ya25.'"
      ]
     },
     "execution_count": 19,
     "metadata": {},
     "output_type": "execute_result"
    }
   ],
   "source": [
    "#swapcase() - Swaps cases, lower case becomes upper case and vice versa\n",
    "\n",
    "Verification_Code = \"Pri10yA25.\"\n",
    "Verification_Code.swapcase()"
   ]
  },
  {
   "cell_type": "code",
   "execution_count": 28,
   "metadata": {},
   "outputs": [
    {
     "data": {
      "text/plain": [
       "6"
      ]
     },
     "execution_count": 28,
     "metadata": {},
     "output_type": "execute_result"
    }
   ],
   "source": [
    "#find() - Searches the string for a specified value and returns the position of where it was found\n",
    "\n",
    "Verification_Code = \"Pri10yA25.\"\n",
    "Verification_Code.find(\"A\")"
   ]
  },
  {
   "cell_type": "raw",
   "metadata": {},
   "source": []
  },
  {
   "cell_type": "markdown",
   "metadata": {},
   "source": [
    "# Solution 2: Try 5 Different functions of the List object in Python"
   ]
  },
  {
   "cell_type": "code",
   "execution_count": 140,
   "metadata": {},
   "outputs": [
    {
     "name": "stdout",
     "output_type": "stream",
     "text": [
      "['Christmas Tree', 25, ['Withdraw from bank', 5000], 'Plum Cake', 'Decorations', 31, 'Fire Crackers', 'TravelBags', 'Flight and Hotel Booking']\n"
     ]
    }
   ],
   "source": [
    "#Joining/Concatenating List can be done using + operator, exaple New_List = List1 + List2\n",
    "# extend() - Adds elements from one list to another list\n",
    "# append - Adds an element at the end of the list\n",
    "\n",
    "Christmas_List = [\"Christmas Tree\", 25, [\"Withdraw from bank\", 5000], \"Plum Cake\"]\n",
    "NewYears_List = [\"Decorations\", 31, \"Fire Crackers\"]\n",
    "\n",
    "Christmas_List.extend(NewYears_List)\n",
    "\n",
    "Christmas_List.append(\"TravelBags\")\n",
    "\n",
    "Vacation_List = Christmas_List + [\"Flight and Hotel Booking\"]\n",
    "\n",
    "print(Vacation_List)"
   ]
  },
  {
   "cell_type": "code",
   "execution_count": 42,
   "metadata": {},
   "outputs": [
    {
     "name": "stdout",
     "output_type": "stream",
     "text": [
      "['Christmas Tree', 25, 'Plum Cake']\n"
     ]
    }
   ],
   "source": [
    "#pop() - Removes the element at the specified position\n",
    "\n",
    "Christmas_List = [\"Christmas Tree\", 25, [\"Withdraw from bank\", 5000], \"Plum Cake\"]\n",
    "NewYears_List = [\"Decorations\", 31, \"Fire Crackers\"]\n",
    "Christmas_List.pop(2)\n",
    "print(Christmas_List)"
   ]
  },
  {
   "cell_type": "code",
   "execution_count": 40,
   "metadata": {},
   "outputs": [
    {
     "name": "stdout",
     "output_type": "stream",
     "text": [
      "['Christmas Tree', ['Withdraw from bank', 5000], 'Plum Cake']\n"
     ]
    }
   ],
   "source": [
    "#remove() - Removes the item with the specified value\n",
    "\n",
    "Christmas_List = [\"Christmas Tree\", 25, [\"Withdraw from bank\", 5000], \"Plum Cake\"]\n",
    "NewYears_List = [\"Decorations\", 31, \"Fire Crackers\"]\n",
    "Christmas_List.remove(25)\n",
    "print(Christmas_List)"
   ]
  },
  {
   "cell_type": "code",
   "execution_count": 49,
   "metadata": {},
   "outputs": [
    {
     "name": "stdout",
     "output_type": "stream",
     "text": [
      "['Christmas Tree', 25, ['Withdraw from bank', 5000], 'Plum Cake', 'Decorations', ['Deposit in bank', 10000], 31, 'Fire Crackers']\n"
     ]
    }
   ],
   "source": [
    "#insert() - Adds an element at the specified position\n",
    "\n",
    "Vacation_List = ['Christmas Tree', 25, ['Withdraw from bank', 5000], 'Plum Cake', 'Decorations', 31, 'Fire Crackers']\n",
    "Vacation_List.insert(-2, [\"Deposit in bank\", 10000])\n",
    "print(Vacation_List)"
   ]
  },
  {
   "cell_type": "code",
   "execution_count": 52,
   "metadata": {},
   "outputs": [
    {
     "name": "stdout",
     "output_type": "stream",
     "text": [
      "None\n"
     ]
    }
   ],
   "source": [
    "#clear() - Removes all the elements from the list\n",
    "\n",
    "Vacation_List = ['Christmas Tree', 25, ['Withdraw from bank', 5000], 'Plum Cake', 'Decorations', ['Deposit in bank', 10000], 31, 'Fire Crackers']\n",
    "New_Festive_List = Vacation_List.clear()\n",
    "print(New_Festive_List)"
   ]
  },
  {
   "cell_type": "raw",
   "metadata": {},
   "source": []
  },
  {
   "cell_type": "markdown",
   "metadata": {},
   "source": [
    "# Solution 3: Experiment with at least 5 default functions of Dictionary."
   ]
  },
  {
   "cell_type": "code",
   "execution_count": 74,
   "metadata": {},
   "outputs": [
    {
     "data": {
      "text/plain": [
       "dict_items([('ID', 'LU1025'), ('Name', 'Priyanka Awatramani'), ('Age', 20)])"
      ]
     },
     "execution_count": 74,
     "metadata": {},
     "output_type": "execute_result"
    }
   ],
   "source": [
    "#items() - Returns a list containing a tuple for each key value pair\n",
    "\n",
    "LUStudent1 = {\"ID\":\"LU1025\", \"Name\":\"Priyanka Awatramani\", \"Age\":20}\n",
    "LUStudent1.items()"
   ]
  },
  {
   "cell_type": "code",
   "execution_count": 72,
   "metadata": {},
   "outputs": [
    {
     "name": "stdout",
     "output_type": "stream",
     "text": [
      "{'ID': 'LU1025', 'Name': 'Priyanka Awatramani', 'Age': 21}\n"
     ]
    }
   ],
   "source": [
    "#update() - Removes the last inserted key-value pair\n",
    "\n",
    "LUStudent1 = {\"ID\":\"LU1025\", \"Name\":\"Priyanka Awatramani\", \"Age\":20}\n",
    "LUStudent1.update({\"Age\":21})\n",
    "print(LUStudent1)"
   ]
  },
  {
   "cell_type": "code",
   "execution_count": 70,
   "metadata": {},
   "outputs": [
    {
     "name": "stdout",
     "output_type": "stream",
     "text": [
      "{'ID': 'LU1025', 'Name': 'Priyanka Awatramani', 'Age': 21}\n"
     ]
    }
   ],
   "source": [
    "#popitem() - Removes the last inserted key-value pair\n",
    "\n",
    "LUStudent1 = {'ID': 'LU1025', 'Name': 'Priyanka Awatramani', 'Age': 21, \"Course\":\"Python Essentials\"}\n",
    "LUStudent1.popitem()\n",
    "print(LUStudent1)"
   ]
  },
  {
   "cell_type": "code",
   "execution_count": 85,
   "metadata": {},
   "outputs": [
    {
     "name": "stdout",
     "output_type": "stream",
     "text": [
      "10 New Joiner Coins\n"
     ]
    }
   ],
   "source": [
    "#setdefault() - Returns the value of the specified key. If the key does not exist: insert the key, with the specified value\n",
    "\n",
    "LUStudent1 = {'ID': 'LU1025', 'Name': 'Priyanka Awatramani', 'Age': 21, \"Course\":\"Python Essentials\"}\n",
    "LU_ID = LUStudent1.setdefault(\"NewJoinerLUCoins\",\"10 New Joiner Coins\")\n",
    "print(LU_ID)"
   ]
  },
  {
   "cell_type": "code",
   "execution_count": 86,
   "metadata": {},
   "outputs": [
    {
     "data": {
      "text/plain": [
       "dict_keys(['ID', 'Name', 'Age', 'Course'])"
      ]
     },
     "execution_count": 86,
     "metadata": {},
     "output_type": "execute_result"
    }
   ],
   "source": [
    "#keys() - Returns a list containing the dictionary's keys\n",
    "\n",
    "LUStudent1 = {'ID': 'LU1025', 'Name': 'Priyanka Awatramani', 'Age': 21, \"Course\":\"Python Essentials\"}\n",
    "LUStudent1.keys()"
   ]
  },
  {
   "cell_type": "code",
   "execution_count": 142,
   "metadata": {},
   "outputs": [
    {
     "data": {
      "text/plain": [
       "dict_values(['LU1025', 'Priyanka Awatramani', 21, 'Python Essentials'])"
      ]
     },
     "execution_count": 142,
     "metadata": {},
     "output_type": "execute_result"
    }
   ],
   "source": [
    "#values() - Returns a list of all the values in the dictionary\n",
    "\n",
    "LUStudent1 = {'ID': 'LU1025', 'Name': 'Priyanka Awatramani', 'Age': 21, \"Course\":\"Python Essentials\"}\n",
    "LUStudent1.values()"
   ]
  },
  {
   "cell_type": "markdown",
   "metadata": {},
   "source": [
    "# ---------------------------------- END OF DAY 2 ASSIGNMENT ----------------------------------"
   ]
  }
 ],
 "metadata": {
  "kernelspec": {
   "display_name": "Python 3",
   "language": "python",
   "name": "python3"
  },
  "language_info": {
   "codemirror_mode": {
    "name": "ipython",
    "version": 3
   },
   "file_extension": ".py",
   "mimetype": "text/x-python",
   "name": "python",
   "nbconvert_exporter": "python",
   "pygments_lexer": "ipython3",
   "version": "3.8.5"
  }
 },
 "nbformat": 4,
 "nbformat_minor": 4
}
