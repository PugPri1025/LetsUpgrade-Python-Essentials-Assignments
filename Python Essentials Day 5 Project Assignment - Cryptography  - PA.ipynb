{
 "cells": [
  {
   "cell_type": "markdown",
   "metadata": {},
   "source": [
    "# Definations:"
   ]
  },
  {
   "cell_type": "raw",
   "metadata": {},
   "source": [
    "Converting simple plain text to sothing tht is not understanable until someone has the Key or Code\n",
    "Cipher Text: A text which is the result of Encryption is known as Cipher Text\n",
    "Encryption: Covernting a message to Secret message is known as Encryption\n",
    "Decryption: Coverting back the Secret message to Normal message."
   ]
  },
  {
   "cell_type": "markdown",
   "metadata": {},
   "source": [
    "# Steps:"
   ]
  },
  {
   "cell_type": "raw",
   "metadata": {},
   "source": [
    "Step 1: Which Library to use to convert a normal text to Cipher Text?\n",
    "Step 2: Take input from the user and then convert it to Cipher Text\n",
    "Step 3: Display back the Cipher Text to the user\n",
    "Step 4: Load the key and if the key is the same, based upon the input provided, convert it to normal text."
   ]
  },
  {
   "cell_type": "markdown",
   "metadata": {},
   "source": [
    "# Cryptography Project:"
   ]
  },
  {
   "cell_type": "code",
   "execution_count": null,
   "metadata": {},
   "outputs": [],
   "source": [
    "!pip install cryptography"
   ]
  },
  {
   "cell_type": "code",
   "execution_count": null,
   "metadata": {},
   "outputs": [],
   "source": [
    "#import Library\n",
    "\n",
    "from cryptography.fernet import Fernet"
   ]
  },
  {
   "cell_type": "code",
   "execution_count": null,
   "metadata": {},
   "outputs": [],
   "source": [
    "#Writing a function to generate the Key\n",
    "\n",
    "def generatePassKey():\n",
    "    key = Fernet.generate_key()\n",
    "    print(key)\n",
    "    pass_key = open(\"Passkey.key\",\"wb\")\n",
    "    pass_key.write(key)\n",
    "    pass_key.close()"
   ]
  },
  {
   "cell_type": "code",
   "execution_count": null,
   "metadata": {},
   "outputs": [],
   "source": [
    "#Retrieving the Key and stored\n",
    "\n",
    "def getMyKey():\n",
    "    pass_key = open(\"Passkey.key\",\"rb\")\n",
    "    return pass_key.read()"
   ]
  },
  {
   "cell_type": "code",
   "execution_count": null,
   "metadata": {},
   "outputs": [],
   "source": [
    "#Getting User's message\n",
    "\n",
    "def getUserInput():\n",
    "    return input(\"Enter the content you want to Encrypt:\")"
   ]
  },
  {
   "cell_type": "code",
   "execution_count": null,
   "metadata": {},
   "outputs": [],
   "source": [
    "#Encrypting User's Message\n",
    "\n",
    "def EncryptMessage(user_input):\n",
    "    key = getMyKey()\n",
    "    k = Fernet(key)\n",
    "    encrypted_message = k.encrypt(user_input)\n",
    "    return encrypted_message"
   ]
  },
  {
   "cell_type": "code",
   "execution_count": null,
   "metadata": {},
   "outputs": [],
   "source": [
    "#Decrypting User's Message\n",
    "\n",
    "def DecryptMessage(encrypted_message):\n",
    "    key = getMyKey()\n",
    "    k = Fernet(key)\n",
    "    decrypted_message = k.decrypt(encrypted_message)\n",
    "    return decrypted_message"
   ]
  },
  {
   "cell_type": "code",
   "execution_count": null,
   "metadata": {},
   "outputs": [],
   "source": [
    "generatePassKey()"
   ]
  },
  {
   "cell_type": "code",
   "execution_count": null,
   "metadata": {},
   "outputs": [],
   "source": [
    "data = getUserInput()\n",
    "encrypted_message = EncryptMessage(data.encode('utf-8'))\n",
    "encrypted_message"
   ]
  },
  {
   "cell_type": "code",
   "execution_count": null,
   "metadata": {},
   "outputs": [],
   "source": [
    "DecryptMessage(encrypted_message)"
   ]
  }
 ],
 "metadata": {
  "kernelspec": {
   "display_name": "Python 3",
   "language": "python",
   "name": "python3"
  },
  "language_info": {
   "codemirror_mode": {
    "name": "ipython",
    "version": 3
   },
   "file_extension": ".py",
   "mimetype": "text/x-python",
   "name": "python",
   "nbconvert_exporter": "python",
   "pygments_lexer": "ipython3",
   "version": "3.8.5"
  }
 },
 "nbformat": 4,
 "nbformat_minor": 4
}
