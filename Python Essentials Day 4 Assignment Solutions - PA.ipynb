{
 "cells": [
  {
   "cell_type": "markdown",
   "metadata": {},
   "source": [
    "# Solution 1: Write down a program in Python for Opening a File and Writing \" I Love LetsUpgrade\" and close it, and read it back again, and then append some data to it and close it."
   ]
  },
  {
   "cell_type": "code",
   "execution_count": 117,
   "metadata": {},
   "outputs": [],
   "source": [
    "My_LUFile = open(\"My_LUFile.txt\", 'w')\n",
    "My_LUFile.write(\"I Love LetsUpgrade!\")\n",
    "My_LUFile.close()"
   ]
  },
  {
   "cell_type": "code",
   "execution_count": 118,
   "metadata": {},
   "outputs": [],
   "source": [
    "My_LUFile = open(\"My_LUFile.txt\", 'a+')\n",
    "My_LUFile.read()\n",
    "My_LUFile.write(\"\\nExcited to learn Python with Saikiran Sir!\")\n",
    "My_LUFile.close()"
   ]
  },
  {
   "cell_type": "code",
   "execution_count": 119,
   "metadata": {},
   "outputs": [
    {
     "name": "stdout",
     "output_type": "stream",
     "text": [
      "I Love LetsUpgrade!\n",
      "Excited to learn Python with Saikiran Sir!\n"
     ]
    }
   ],
   "source": [
    "# This part done for my reference. My_LUFile.txt is uploaded in GitHub too. \n",
    "# Link: https://github.com/PugPri1025/LetsUpgrade-Python-Essentials-Assignments/blob/main/My_LUFile.txt\n",
    "\n",
    "My_LUFile = open(\"My_LUFile.txt\", 'r')\n",
    "My_LUFile_Contents = My_LUFile.read()\n",
    "print(My_LUFile_Contents)"
   ]
  },
  {
   "cell_type": "markdown",
   "metadata": {},
   "source": [
    "# Solution 2: Write a function which can return a Factorial of any numbers as INT, given in the argument."
   ]
  },
  {
   "cell_type": "code",
   "execution_count": 106,
   "metadata": {},
   "outputs": [],
   "source": [
    "def factorial(n):\n",
    "    factorial = 1    \n",
    "    for i in range(1,n+1):\n",
    "        factorial = factorial * i\n",
    "    return factorial"
   ]
  },
  {
   "cell_type": "code",
   "execution_count": 116,
   "metadata": {},
   "outputs": [
    {
     "name": "stdout",
     "output_type": "stream",
     "text": [
      "The factorial of 7 is 5040 .\n"
     ]
    }
   ],
   "source": [
    "print(\"The factorial of\",7,\"is\",factorial(7),\".\")"
   ]
  },
  {
   "cell_type": "markdown",
   "metadata": {},
   "source": [
    "# ---------------------------------- END OF DAY 4 ASSIGNMENT ----------------------------------"
   ]
  }
 ],
 "metadata": {
  "kernelspec": {
   "display_name": "Python 3",
   "language": "python",
   "name": "python3"
  },
  "language_info": {
   "codemirror_mode": {
    "name": "ipython",
    "version": 3
   },
   "file_extension": ".py",
   "mimetype": "text/x-python",
   "name": "python",
   "nbconvert_exporter": "python",
   "pygments_lexer": "ipython3",
   "version": "3.8.5"
  }
 },
 "nbformat": 4,
 "nbformat_minor": 4
}
